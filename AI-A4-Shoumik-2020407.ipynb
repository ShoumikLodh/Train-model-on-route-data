{
 "cells": [
  {
   "cell_type": "markdown",
   "metadata": {
    "id": "HXp3v2hL0Dhh"
   },
   "source": [
    "## **IMPORTING REQUIRED LIBRARIES**"
   ]
  },
  {
   "cell_type": "code",
   "execution_count": null,
   "metadata": {
    "id": "_YaJy0FSpIxL"
   },
   "outputs": [],
   "source": [
    "import numpy as np\n",
    "import pandas as pd\n",
    "import matplotlib.pyplot as plt\n",
    "import seaborn as sns\n",
    "\n",
    "#Library used for Preprocessing\n",
    "from sklearn.preprocessing import LabelEncoder\n",
    "from sklearn.preprocessing import Normalizer\n",
    "import copy\n",
    "\n",
    "#Library for Label Encoding\n",
    "from keras.utils import np_utils\n",
    "from sklearn.model_selection import train_test_split\n",
    "from sklearn.metrics import classification_report, confusion_matrix, accuracy_score\n",
    "from sklearn.neural_network import MLPClassifier\n",
    "from collections import Counter\n",
    "from scipy import spatial\n",
    "from sklearn.feature_selection import SelectKBest\n",
    "from sklearn.feature_selection import chi2"
   ]
  },
  {
   "cell_type": "code",
   "execution_count": null,
   "metadata": {
    "id": "r-h6DCjmqQFu"
   },
   "outputs": [],
   "source": [
    "\n"
   ]
  },
  {
   "cell_type": "markdown",
   "metadata": {
    "id": "sPIaGD7H0Pof"
   },
   "source": [
    "# **Reading DATA**"
   ]
  },
  {
   "cell_type": "code",
   "execution_count": null,
   "metadata": {
    "colab": {
     "base_uri": "https://localhost:8080/",
     "height": 835
    },
    "id": "6QgE3Ykdqdby",
    "outputId": "d1c5f253-08e3-48df-be5d-a6748522749c"
   },
   "outputs": [
    {
     "data": {
      "text/html": [
       "<div>\n",
       "<style scoped>\n",
       "    .dataframe tbody tr th:only-of-type {\n",
       "        vertical-align: middle;\n",
       "    }\n",
       "\n",
       "    .dataframe tbody tr th {\n",
       "        vertical-align: top;\n",
       "    }\n",
       "\n",
       "    .dataframe thead th {\n",
       "        text-align: right;\n",
       "    }\n",
       "</style>\n",
       "<table border=\"1\" class=\"dataframe\">\n",
       "  <thead>\n",
       "    <tr style=\"text-align: right;\">\n",
       "      <th></th>\n",
       "      <th>Acedamic percentage in Operating Systems</th>\n",
       "      <th>percentage in Algorithms</th>\n",
       "      <th>Percentage in Programming Concepts</th>\n",
       "      <th>Percentage in Software Engineering</th>\n",
       "      <th>Percentage in Computer Networks</th>\n",
       "      <th>Percentage in Electronics Subjects</th>\n",
       "      <th>Percentage in Computer Architecture</th>\n",
       "      <th>Percentage in Mathematics</th>\n",
       "      <th>Percentage in Communication skills</th>\n",
       "      <th>Hours working per day</th>\n",
       "      <th>...</th>\n",
       "      <th>Interested Type of Books</th>\n",
       "      <th>Salary Range Expected</th>\n",
       "      <th>In a Realtionship?</th>\n",
       "      <th>Gentle or Tuff behaviour?</th>\n",
       "      <th>Management or Technical</th>\n",
       "      <th>Salary/work</th>\n",
       "      <th>hard/smart worker</th>\n",
       "      <th>worked in teams ever?</th>\n",
       "      <th>Introvert</th>\n",
       "      <th>Suggested Job Role</th>\n",
       "    </tr>\n",
       "  </thead>\n",
       "  <tbody>\n",
       "    <tr>\n",
       "      <th>0</th>\n",
       "      <td>69</td>\n",
       "      <td>63</td>\n",
       "      <td>78</td>\n",
       "      <td>87</td>\n",
       "      <td>94</td>\n",
       "      <td>94</td>\n",
       "      <td>87</td>\n",
       "      <td>84</td>\n",
       "      <td>61</td>\n",
       "      <td>9</td>\n",
       "      <td>...</td>\n",
       "      <td>Prayer books</td>\n",
       "      <td>salary</td>\n",
       "      <td>no</td>\n",
       "      <td>stubborn</td>\n",
       "      <td>Management</td>\n",
       "      <td>salary</td>\n",
       "      <td>hard worker</td>\n",
       "      <td>yes</td>\n",
       "      <td>no</td>\n",
       "      <td>Database Developer</td>\n",
       "    </tr>\n",
       "    <tr>\n",
       "      <th>1</th>\n",
       "      <td>78</td>\n",
       "      <td>62</td>\n",
       "      <td>73</td>\n",
       "      <td>60</td>\n",
       "      <td>71</td>\n",
       "      <td>70</td>\n",
       "      <td>73</td>\n",
       "      <td>84</td>\n",
       "      <td>91</td>\n",
       "      <td>12</td>\n",
       "      <td>...</td>\n",
       "      <td>Childrens</td>\n",
       "      <td>salary</td>\n",
       "      <td>yes</td>\n",
       "      <td>gentle</td>\n",
       "      <td>Technical</td>\n",
       "      <td>salary</td>\n",
       "      <td>hard worker</td>\n",
       "      <td>no</td>\n",
       "      <td>yes</td>\n",
       "      <td>Portal Administrator</td>\n",
       "    </tr>\n",
       "    <tr>\n",
       "      <th>2</th>\n",
       "      <td>71</td>\n",
       "      <td>86</td>\n",
       "      <td>91</td>\n",
       "      <td>87</td>\n",
       "      <td>61</td>\n",
       "      <td>81</td>\n",
       "      <td>72</td>\n",
       "      <td>72</td>\n",
       "      <td>94</td>\n",
       "      <td>11</td>\n",
       "      <td>...</td>\n",
       "      <td>Travel</td>\n",
       "      <td>Work</td>\n",
       "      <td>no</td>\n",
       "      <td>stubborn</td>\n",
       "      <td>Management</td>\n",
       "      <td>work</td>\n",
       "      <td>hard worker</td>\n",
       "      <td>no</td>\n",
       "      <td>yes</td>\n",
       "      <td>Portal Administrator</td>\n",
       "    </tr>\n",
       "    <tr>\n",
       "      <th>3</th>\n",
       "      <td>76</td>\n",
       "      <td>87</td>\n",
       "      <td>60</td>\n",
       "      <td>84</td>\n",
       "      <td>89</td>\n",
       "      <td>73</td>\n",
       "      <td>62</td>\n",
       "      <td>88</td>\n",
       "      <td>69</td>\n",
       "      <td>7</td>\n",
       "      <td>...</td>\n",
       "      <td>Romance</td>\n",
       "      <td>Work</td>\n",
       "      <td>yes</td>\n",
       "      <td>gentle</td>\n",
       "      <td>Management</td>\n",
       "      <td>work</td>\n",
       "      <td>smart worker</td>\n",
       "      <td>yes</td>\n",
       "      <td>yes</td>\n",
       "      <td>Systems Security Administrator</td>\n",
       "    </tr>\n",
       "    <tr>\n",
       "      <th>4</th>\n",
       "      <td>92</td>\n",
       "      <td>62</td>\n",
       "      <td>90</td>\n",
       "      <td>67</td>\n",
       "      <td>71</td>\n",
       "      <td>89</td>\n",
       "      <td>73</td>\n",
       "      <td>71</td>\n",
       "      <td>73</td>\n",
       "      <td>4</td>\n",
       "      <td>...</td>\n",
       "      <td>Cookbooks</td>\n",
       "      <td>salary</td>\n",
       "      <td>no</td>\n",
       "      <td>stubborn</td>\n",
       "      <td>Management</td>\n",
       "      <td>work</td>\n",
       "      <td>hard worker</td>\n",
       "      <td>yes</td>\n",
       "      <td>yes</td>\n",
       "      <td>Business Systems Analyst</td>\n",
       "    </tr>\n",
       "    <tr>\n",
       "      <th>...</th>\n",
       "      <td>...</td>\n",
       "      <td>...</td>\n",
       "      <td>...</td>\n",
       "      <td>...</td>\n",
       "      <td>...</td>\n",
       "      <td>...</td>\n",
       "      <td>...</td>\n",
       "      <td>...</td>\n",
       "      <td>...</td>\n",
       "      <td>...</td>\n",
       "      <td>...</td>\n",
       "      <td>...</td>\n",
       "      <td>...</td>\n",
       "      <td>...</td>\n",
       "      <td>...</td>\n",
       "      <td>...</td>\n",
       "      <td>...</td>\n",
       "      <td>...</td>\n",
       "      <td>...</td>\n",
       "      <td>...</td>\n",
       "      <td>...</td>\n",
       "    </tr>\n",
       "    <tr>\n",
       "      <th>19995</th>\n",
       "      <td>83</td>\n",
       "      <td>67</td>\n",
       "      <td>62</td>\n",
       "      <td>63</td>\n",
       "      <td>81</td>\n",
       "      <td>74</td>\n",
       "      <td>90</td>\n",
       "      <td>84</td>\n",
       "      <td>69</td>\n",
       "      <td>4</td>\n",
       "      <td>...</td>\n",
       "      <td>Journals</td>\n",
       "      <td>Work</td>\n",
       "      <td>yes</td>\n",
       "      <td>stubborn</td>\n",
       "      <td>Management</td>\n",
       "      <td>salary</td>\n",
       "      <td>smart worker</td>\n",
       "      <td>yes</td>\n",
       "      <td>no</td>\n",
       "      <td>Technical Engineer</td>\n",
       "    </tr>\n",
       "    <tr>\n",
       "      <th>19996</th>\n",
       "      <td>80</td>\n",
       "      <td>69</td>\n",
       "      <td>83</td>\n",
       "      <td>87</td>\n",
       "      <td>82</td>\n",
       "      <td>66</td>\n",
       "      <td>66</td>\n",
       "      <td>92</td>\n",
       "      <td>67</td>\n",
       "      <td>7</td>\n",
       "      <td>...</td>\n",
       "      <td>Cookbooks</td>\n",
       "      <td>salary</td>\n",
       "      <td>no</td>\n",
       "      <td>stubborn</td>\n",
       "      <td>Management</td>\n",
       "      <td>salary</td>\n",
       "      <td>hard worker</td>\n",
       "      <td>no</td>\n",
       "      <td>yes</td>\n",
       "      <td>E-Commerce Analyst</td>\n",
       "    </tr>\n",
       "    <tr>\n",
       "      <th>19997</th>\n",
       "      <td>83</td>\n",
       "      <td>70</td>\n",
       "      <td>80</td>\n",
       "      <td>87</td>\n",
       "      <td>64</td>\n",
       "      <td>85</td>\n",
       "      <td>69</td>\n",
       "      <td>94</td>\n",
       "      <td>88</td>\n",
       "      <td>7</td>\n",
       "      <td>...</td>\n",
       "      <td>Drama</td>\n",
       "      <td>Work</td>\n",
       "      <td>yes</td>\n",
       "      <td>gentle</td>\n",
       "      <td>Technical</td>\n",
       "      <td>work</td>\n",
       "      <td>hard worker</td>\n",
       "      <td>no</td>\n",
       "      <td>yes</td>\n",
       "      <td>Business Intelligence Analyst</td>\n",
       "    </tr>\n",
       "    <tr>\n",
       "      <th>19998</th>\n",
       "      <td>68</td>\n",
       "      <td>87</td>\n",
       "      <td>91</td>\n",
       "      <td>88</td>\n",
       "      <td>66</td>\n",
       "      <td>74</td>\n",
       "      <td>61</td>\n",
       "      <td>87</td>\n",
       "      <td>61</td>\n",
       "      <td>5</td>\n",
       "      <td>...</td>\n",
       "      <td>Travel</td>\n",
       "      <td>Work</td>\n",
       "      <td>no</td>\n",
       "      <td>gentle</td>\n",
       "      <td>Management</td>\n",
       "      <td>work</td>\n",
       "      <td>smart worker</td>\n",
       "      <td>yes</td>\n",
       "      <td>no</td>\n",
       "      <td>Software Quality Assurance (QA) / Testing</td>\n",
       "    </tr>\n",
       "    <tr>\n",
       "      <th>19999</th>\n",
       "      <td>73</td>\n",
       "      <td>77</td>\n",
       "      <td>74</td>\n",
       "      <td>84</td>\n",
       "      <td>70</td>\n",
       "      <td>65</td>\n",
       "      <td>92</td>\n",
       "      <td>73</td>\n",
       "      <td>90</td>\n",
       "      <td>7</td>\n",
       "      <td>...</td>\n",
       "      <td>Comics</td>\n",
       "      <td>Work</td>\n",
       "      <td>no</td>\n",
       "      <td>gentle</td>\n",
       "      <td>Management</td>\n",
       "      <td>work</td>\n",
       "      <td>hard worker</td>\n",
       "      <td>yes</td>\n",
       "      <td>no</td>\n",
       "      <td>Applications Developer</td>\n",
       "    </tr>\n",
       "  </tbody>\n",
       "</table>\n",
       "<p>20000 rows × 39 columns</p>\n",
       "</div>"
      ],
      "text/plain": [
       "       Acedamic percentage in Operating Systems  percentage in Algorithms  \\\n",
       "0                                            69                        63   \n",
       "1                                            78                        62   \n",
       "2                                            71                        86   \n",
       "3                                            76                        87   \n",
       "4                                            92                        62   \n",
       "...                                         ...                       ...   \n",
       "19995                                        83                        67   \n",
       "19996                                        80                        69   \n",
       "19997                                        83                        70   \n",
       "19998                                        68                        87   \n",
       "19999                                        73                        77   \n",
       "\n",
       "       Percentage in Programming Concepts  Percentage in Software Engineering  \\\n",
       "0                                      78                                  87   \n",
       "1                                      73                                  60   \n",
       "2                                      91                                  87   \n",
       "3                                      60                                  84   \n",
       "4                                      90                                  67   \n",
       "...                                   ...                                 ...   \n",
       "19995                                  62                                  63   \n",
       "19996                                  83                                  87   \n",
       "19997                                  80                                  87   \n",
       "19998                                  91                                  88   \n",
       "19999                                  74                                  84   \n",
       "\n",
       "       Percentage in Computer Networks  Percentage in Electronics Subjects  \\\n",
       "0                                   94                                  94   \n",
       "1                                   71                                  70   \n",
       "2                                   61                                  81   \n",
       "3                                   89                                  73   \n",
       "4                                   71                                  89   \n",
       "...                                ...                                 ...   \n",
       "19995                               81                                  74   \n",
       "19996                               82                                  66   \n",
       "19997                               64                                  85   \n",
       "19998                               66                                  74   \n",
       "19999                               70                                  65   \n",
       "\n",
       "       Percentage in Computer Architecture  Percentage in Mathematics  \\\n",
       "0                                       87                         84   \n",
       "1                                       73                         84   \n",
       "2                                       72                         72   \n",
       "3                                       62                         88   \n",
       "4                                       73                         71   \n",
       "...                                    ...                        ...   \n",
       "19995                                   90                         84   \n",
       "19996                                   66                         92   \n",
       "19997                                   69                         94   \n",
       "19998                                   61                         87   \n",
       "19999                                   92                         73   \n",
       "\n",
       "       Percentage in Communication skills  Hours working per day  ...  \\\n",
       "0                                      61                      9  ...   \n",
       "1                                      91                     12  ...   \n",
       "2                                      94                     11  ...   \n",
       "3                                      69                      7  ...   \n",
       "4                                      73                      4  ...   \n",
       "...                                   ...                    ...  ...   \n",
       "19995                                  69                      4  ...   \n",
       "19996                                  67                      7  ...   \n",
       "19997                                  88                      7  ...   \n",
       "19998                                  61                      5  ...   \n",
       "19999                                  90                      7  ...   \n",
       "\n",
       "       Interested Type of Books  Salary Range Expected  In a Realtionship?  \\\n",
       "0                  Prayer books                 salary                  no   \n",
       "1                     Childrens                 salary                 yes   \n",
       "2                        Travel                   Work                  no   \n",
       "3                       Romance                   Work                 yes   \n",
       "4                     Cookbooks                 salary                  no   \n",
       "...                         ...                    ...                 ...   \n",
       "19995                  Journals                   Work                 yes   \n",
       "19996                 Cookbooks                 salary                  no   \n",
       "19997                     Drama                   Work                 yes   \n",
       "19998                    Travel                   Work                  no   \n",
       "19999                    Comics                   Work                  no   \n",
       "\n",
       "       Gentle or Tuff behaviour? Management or Technical Salary/work  \\\n",
       "0                       stubborn              Management      salary   \n",
       "1                         gentle               Technical      salary   \n",
       "2                       stubborn              Management        work   \n",
       "3                         gentle              Management        work   \n",
       "4                       stubborn              Management        work   \n",
       "...                          ...                     ...         ...   \n",
       "19995                   stubborn              Management      salary   \n",
       "19996                   stubborn              Management      salary   \n",
       "19997                     gentle               Technical        work   \n",
       "19998                     gentle              Management        work   \n",
       "19999                     gentle              Management        work   \n",
       "\n",
       "      hard/smart worker worked in teams ever? Introvert  \\\n",
       "0           hard worker                   yes        no   \n",
       "1           hard worker                    no       yes   \n",
       "2           hard worker                    no       yes   \n",
       "3          smart worker                   yes       yes   \n",
       "4           hard worker                   yes       yes   \n",
       "...                 ...                   ...       ...   \n",
       "19995      smart worker                   yes        no   \n",
       "19996       hard worker                    no       yes   \n",
       "19997       hard worker                    no       yes   \n",
       "19998      smart worker                   yes        no   \n",
       "19999       hard worker                   yes        no   \n",
       "\n",
       "                              Suggested Job Role  \n",
       "0                             Database Developer  \n",
       "1                           Portal Administrator  \n",
       "2                           Portal Administrator  \n",
       "3                 Systems Security Administrator  \n",
       "4                       Business Systems Analyst  \n",
       "...                                          ...  \n",
       "19995                         Technical Engineer  \n",
       "19996                         E-Commerce Analyst  \n",
       "19997              Business Intelligence Analyst  \n",
       "19998  Software Quality Assurance (QA) / Testing  \n",
       "19999                     Applications Developer  \n",
       "\n",
       "[20000 rows x 39 columns]"
      ]
     },
     "execution_count": 16,
     "metadata": {},
     "output_type": "execute_result"
    }
   ],
   "source": [
    "dataset = pd.read_csv('/Users/legion/Downloads/roo_data.csv')\n",
    "dataset"
   ]
  },
  {
   "cell_type": "markdown",
   "metadata": {
    "id": "oEXqs2H60Yir"
   },
   "source": [
    "# **Checking all column data and Information**"
   ]
  },
  {
   "cell_type": "code",
   "execution_count": null,
   "metadata": {
    "colab": {
     "base_uri": "https://localhost:8080/"
    },
    "id": "WNwPkRnuqn9Z",
    "outputId": "8d46d051-db57-4fb6-fd00-4c34273b2ce3"
   },
   "outputs": [
    {
     "name": "stdout",
     "output_type": "stream",
     "text": [
      "Columns:  ['Acedamic percentage in Operating Systems', 'percentage in Algorithms', 'Percentage in Programming Concepts', 'Percentage in Software Engineering', 'Percentage in Computer Networks', 'Percentage in Electronics Subjects', 'Percentage in Computer Architecture', 'Percentage in Mathematics', 'Percentage in Communication skills', 'Hours working per day', 'Logical quotient rating', 'hackathons', 'coding skills rating', 'public speaking points', 'can work long time before system?', 'self-learning capability?', 'Extra-courses did', 'certifications', 'workshops', 'talenttests taken?', 'olympiads', 'reading and writing skills', 'memory capability score', 'Interested subjects', 'interested career area ', 'Job/Higher Studies?', 'Type of company want to settle in?', 'Taken inputs from seniors or elders', 'interested in games', 'Interested Type of Books', 'Salary Range Expected', 'In a Realtionship?', 'Gentle or Tuff behaviour?', 'Management or Technical', 'Salary/work', 'hard/smart worker', 'worked in teams ever?', 'Introvert', 'Suggested Job Role']\n"
     ]
    }
   ],
   "source": [
    "all_columns = list(dataset.columns)\n",
    "print(\"Columns: \", all_columns)"
   ]
  },
  {
   "cell_type": "code",
   "execution_count": null,
   "metadata": {
    "colab": {
     "base_uri": "https://localhost:8080/"
    },
    "id": "RrSE4VfOqqzw",
    "outputId": "8e0a306f-1fd6-45b6-e789-b6810c021e43"
   },
   "outputs": [
    {
     "name": "stdout",
     "output_type": "stream",
     "text": [
      "<class 'pandas.core.frame.DataFrame'>\n",
      "RangeIndex: 20000 entries, 0 to 19999\n",
      "Data columns (total 39 columns):\n",
      " #   Column                                    Non-Null Count  Dtype \n",
      "---  ------                                    --------------  ----- \n",
      " 0   Acedamic percentage in Operating Systems  20000 non-null  int64 \n",
      " 1   percentage in Algorithms                  20000 non-null  int64 \n",
      " 2   Percentage in Programming Concepts        20000 non-null  int64 \n",
      " 3   Percentage in Software Engineering        20000 non-null  int64 \n",
      " 4   Percentage in Computer Networks           20000 non-null  int64 \n",
      " 5   Percentage in Electronics Subjects        20000 non-null  int64 \n",
      " 6   Percentage in Computer Architecture       20000 non-null  int64 \n",
      " 7   Percentage in Mathematics                 20000 non-null  int64 \n",
      " 8   Percentage in Communication skills        20000 non-null  int64 \n",
      " 9   Hours working per day                     20000 non-null  int64 \n",
      " 10  Logical quotient rating                   20000 non-null  int64 \n",
      " 11  hackathons                                20000 non-null  int64 \n",
      " 12  coding skills rating                      20000 non-null  int64 \n",
      " 13  public speaking points                    20000 non-null  int64 \n",
      " 14  can work long time before system?         20000 non-null  object\n",
      " 15  self-learning capability?                 20000 non-null  object\n",
      " 16  Extra-courses did                         20000 non-null  object\n",
      " 17  certifications                            20000 non-null  object\n",
      " 18  workshops                                 20000 non-null  object\n",
      " 19  talenttests taken?                        20000 non-null  object\n",
      " 20  olympiads                                 20000 non-null  object\n",
      " 21  reading and writing skills                20000 non-null  object\n",
      " 22  memory capability score                   20000 non-null  object\n",
      " 23  Interested subjects                       20000 non-null  object\n",
      " 24  interested career area                    20000 non-null  object\n",
      " 25  Job/Higher Studies?                       20000 non-null  object\n",
      " 26  Type of company want to settle in?        20000 non-null  object\n",
      " 27  Taken inputs from seniors or elders       20000 non-null  object\n",
      " 28  interested in games                       20000 non-null  object\n",
      " 29  Interested Type of Books                  20000 non-null  object\n",
      " 30  Salary Range Expected                     20000 non-null  object\n",
      " 31  In a Realtionship?                        20000 non-null  object\n",
      " 32  Gentle or Tuff behaviour?                 20000 non-null  object\n",
      " 33  Management or Technical                   20000 non-null  object\n",
      " 34  Salary/work                               20000 non-null  object\n",
      " 35  hard/smart worker                         20000 non-null  object\n",
      " 36  worked in teams ever?                     20000 non-null  object\n",
      " 37  Introvert                                 20000 non-null  object\n",
      " 38  Suggested Job Role                        20000 non-null  object\n",
      "dtypes: int64(14), object(25)\n",
      "memory usage: 6.0+ MB\n",
      "None\n"
     ]
    }
   ],
   "source": [
    "print(dataset.info())"
   ]
  },
  {
   "cell_type": "code",
   "execution_count": null,
   "metadata": {
    "colab": {
     "base_uri": "https://localhost:8080/"
    },
    "id": "YgQF_A_7qq8g",
    "outputId": "8364e025-ea59-454f-da5a-c93cfb0436a1"
   },
   "outputs": [
    {
     "name": "stdout",
     "output_type": "stream",
     "text": [
      "Column Name:  can work long time before system?\n",
      "Number of Unique Values:  2\n",
      "['no' 'yes']\n",
      "\n",
      "Column Name:  self-learning capability?\n",
      "Number of Unique Values:  2\n",
      "['no' 'yes']\n",
      "\n",
      "Column Name:  Extra-courses did\n",
      "Number of Unique Values:  2\n",
      "['no' 'yes']\n",
      "\n",
      "Column Name:  certifications\n",
      "Number of Unique Values:  9\n",
      "['app development' 'distro making' 'full stack' 'hadoop'\n",
      " 'information security' 'machine learning' 'python' 'r programming'\n",
      " 'shell programming']\n",
      "\n",
      "Column Name:  workshops\n",
      "Number of Unique Values:  8\n",
      "['cloud computing' 'data science' 'database security' 'game development'\n",
      " 'hacking' 'system designing' 'testing' 'web technologies']\n",
      "\n",
      "Column Name:  talenttests taken?\n",
      "Number of Unique Values:  2\n",
      "['no' 'yes']\n",
      "\n",
      "Column Name:  olympiads\n",
      "Number of Unique Values:  2\n",
      "['no' 'yes']\n",
      "\n",
      "Column Name:  reading and writing skills\n",
      "Number of Unique Values:  3\n",
      "['excellent' 'medium' 'poor']\n",
      "\n",
      "Column Name:  memory capability score\n",
      "Number of Unique Values:  3\n",
      "['excellent' 'medium' 'poor']\n",
      "\n",
      "Column Name:  Interested subjects\n",
      "Number of Unique Values:  10\n",
      "['Computer Architecture' 'IOT' 'Management' 'Software Engineering'\n",
      " 'cloud computing' 'data engineering' 'hacking' 'networks'\n",
      " 'parallel computing' 'programming']\n",
      "\n",
      "Column Name:  interested career area \n",
      "Number of Unique Values:  6\n",
      "['Business process analyst' 'cloud computing' 'developer' 'security'\n",
      " 'system developer' 'testing']\n",
      "\n",
      "Column Name:  Job/Higher Studies?\n",
      "Number of Unique Values:  2\n",
      "['higherstudies' 'job']\n",
      "\n",
      "Column Name:  Type of company want to settle in?\n",
      "Number of Unique Values:  10\n",
      "['BPA' 'Cloud Services' 'Finance' 'Product based' 'SAaS services'\n",
      " 'Sales and Marketing' 'Service Based' 'Testing and Maintainance Services'\n",
      " 'Web Services' 'product development']\n",
      "\n",
      "Column Name:  Taken inputs from seniors or elders\n",
      "Number of Unique Values:  2\n",
      "['no' 'yes']\n",
      "\n",
      "Column Name:  interested in games\n",
      "Number of Unique Values:  2\n",
      "['no' 'yes']\n",
      "\n",
      "Column Name:  Interested Type of Books\n",
      "Number of Unique Values:  31\n",
      "['Action and Adventure' 'Anthology' 'Art' 'Autobiographies' 'Biographies'\n",
      " 'Childrens' 'Comics' 'Cookbooks' 'Diaries' 'Dictionaries' 'Drama'\n",
      " 'Encyclopedias' 'Fantasy' 'Guide' 'Health' 'History' 'Horror' 'Journals'\n",
      " 'Math' 'Mystery' 'Poetry' 'Prayer books' 'Religion-Spirituality'\n",
      " 'Romance' 'Satire' 'Science' 'Science fiction' 'Self help' 'Series'\n",
      " 'Travel' 'Trilogy']\n",
      "\n",
      "Column Name:  Salary Range Expected\n",
      "Number of Unique Values:  2\n",
      "['Work' 'salary']\n",
      "\n",
      "Column Name:  In a Realtionship?\n",
      "Number of Unique Values:  2\n",
      "['no' 'yes']\n",
      "\n",
      "Column Name:  Gentle or Tuff behaviour?\n",
      "Number of Unique Values:  2\n",
      "['gentle' 'stubborn']\n",
      "\n",
      "Column Name:  Management or Technical\n",
      "Number of Unique Values:  2\n",
      "['Management' 'Technical']\n",
      "\n",
      "Column Name:  Salary/work\n",
      "Number of Unique Values:  2\n",
      "['salary' 'work']\n",
      "\n",
      "Column Name:  hard/smart worker\n",
      "Number of Unique Values:  2\n",
      "['hard worker' 'smart worker']\n",
      "\n",
      "Column Name:  worked in teams ever?\n",
      "Number of Unique Values:  2\n",
      "['no' 'yes']\n",
      "\n",
      "Column Name:  Introvert\n",
      "Number of Unique Values:  2\n",
      "['no' 'yes']\n",
      "\n",
      "Column Name:  Suggested Job Role\n",
      "Number of Unique Values:  34\n",
      "['Applications Developer' 'Business Intelligence Analyst'\n",
      " 'Business Systems Analyst' 'CRM Business Analyst'\n",
      " 'CRM Technical Developer' 'Data Architect' 'Database Administrator'\n",
      " 'Database Developer' 'Database Manager' 'Design & UX'\n",
      " 'E-Commerce Analyst' 'Information Security Analyst'\n",
      " 'Information Technology Auditor' 'Information Technology Manager'\n",
      " 'Mobile Applications Developer' 'Network Engineer'\n",
      " 'Network Security Administrator' 'Network Security Engineer'\n",
      " 'Portal Administrator' 'Programmer Analyst' 'Project Manager'\n",
      " 'Quality Assurance Associate' 'Software Developer' 'Software Engineer'\n",
      " 'Software Quality Assurance (QA) / Testing' 'Software Systems Engineer'\n",
      " 'Solutions Architect' 'Systems Analyst' 'Systems Security Administrator'\n",
      " 'Technical Engineer' 'Technical Services/Help Desk/Tech Support'\n",
      " 'Technical Support' 'UX Designer' 'Web Developer']\n",
      "\n"
     ]
    }
   ],
   "source": [
    "#Printing the unique values in each column\n",
    "for i in range(14,39):\n",
    "  print(\"Column Name: \",all_columns[i])\n",
    "  print(\"Number of Unique Values: \",len(np.unique(dataset.iloc[:,i])))\n",
    "  print(np.unique(dataset.iloc[:,i]))\n",
    "  print()"
   ]
  },
  {
   "cell_type": "markdown",
   "metadata": {
    "id": "58zMlbhb1EJj"
   },
   "source": [
    "# **Checking for errors (null and out of bounds data)**"
   ]
  },
  {
   "cell_type": "code",
   "execution_count": null,
   "metadata": {
    "colab": {
     "base_uri": "https://localhost:8080/"
    },
    "id": "b2GjPc_gqrA_",
    "outputId": "38bf82e5-8abe-431e-8257-d78660c2cde6"
   },
   "outputs": [
    {
     "name": "stdout",
     "output_type": "stream",
     "text": [
      "All values are in range\n"
     ]
    }
   ],
   "source": [
    "#Checking if the percentage values lies between 0 to 100\n",
    "columns = []\n",
    "#Checking first 9 columns since they are of percentage\n",
    "for col in range(0,9):\n",
    "  low = min(dataset.iloc[:,col])\n",
    "  high = max(dataset.iloc[:,col])\n",
    "\n",
    "  if low < 0 or high > 100:\n",
    "    columns.append(col)\n",
    "\n",
    "if len(columns) == 0:\n",
    "  print(\"All values are in range\")"
   ]
  },
  {
   "cell_type": "code",
   "execution_count": null,
   "metadata": {
    "colab": {
     "base_uri": "https://localhost:8080/"
    },
    "id": "TZT2h4EeqrEH",
    "outputId": "26c5fd77-319b-4e4d-c361-30c9d4e307fc"
   },
   "outputs": [
    {
     "name": "stdout",
     "output_type": "stream",
     "text": [
      "Acedamic percentage in Operating Systems    0\n",
      "percentage in Algorithms                    0\n",
      "Percentage in Programming Concepts          0\n",
      "Percentage in Software Engineering          0\n",
      "Percentage in Computer Networks             0\n",
      "Percentage in Electronics Subjects          0\n",
      "Percentage in Computer Architecture         0\n",
      "Percentage in Mathematics                   0\n",
      "Percentage in Communication skills          0\n",
      "Hours working per day                       0\n",
      "Logical quotient rating                     0\n",
      "hackathons                                  0\n",
      "coding skills rating                        0\n",
      "public speaking points                      0\n",
      "can work long time before system?           0\n",
      "self-learning capability?                   0\n",
      "Extra-courses did                           0\n",
      "certifications                              0\n",
      "workshops                                   0\n",
      "talenttests taken?                          0\n",
      "olympiads                                   0\n",
      "reading and writing skills                  0\n",
      "memory capability score                     0\n",
      "Interested subjects                         0\n",
      "interested career area                      0\n",
      "Job/Higher Studies?                         0\n",
      "Type of company want to settle in?          0\n",
      "Taken inputs from seniors or elders         0\n",
      "interested in games                         0\n",
      "Interested Type of Books                    0\n",
      "Salary Range Expected                       0\n",
      "In a Realtionship?                          0\n",
      "Gentle or Tuff behaviour?                   0\n",
      "Management or Technical                     0\n",
      "Salary/work                                 0\n",
      "hard/smart worker                           0\n",
      "worked in teams ever?                       0\n",
      "Introvert                                   0\n",
      "Suggested Job Role                          0\n",
      "dtype: int64\n",
      "\n",
      "Any Empty Cell :  Acedamic percentage in Operating Systems    False\n",
      "percentage in Algorithms                    False\n",
      "Percentage in Programming Concepts          False\n",
      "Percentage in Software Engineering          False\n",
      "Percentage in Computer Networks             False\n",
      "Percentage in Electronics Subjects          False\n",
      "Percentage in Computer Architecture         False\n",
      "Percentage in Mathematics                   False\n",
      "Percentage in Communication skills          False\n",
      "Hours working per day                       False\n",
      "Logical quotient rating                     False\n",
      "hackathons                                  False\n",
      "coding skills rating                        False\n",
      "public speaking points                      False\n",
      "can work long time before system?           False\n",
      "self-learning capability?                   False\n",
      "Extra-courses did                           False\n",
      "certifications                              False\n",
      "workshops                                   False\n",
      "talenttests taken?                          False\n",
      "olympiads                                   False\n",
      "reading and writing skills                  False\n",
      "memory capability score                     False\n",
      "Interested subjects                         False\n",
      "interested career area                      False\n",
      "Job/Higher Studies?                         False\n",
      "Type of company want to settle in?          False\n",
      "Taken inputs from seniors or elders         False\n",
      "interested in games                         False\n",
      "Interested Type of Books                    False\n",
      "Salary Range Expected                       False\n",
      "In a Realtionship?                          False\n",
      "Gentle or Tuff behaviour?                   False\n",
      "Management or Technical                     False\n",
      "Salary/work                                 False\n",
      "hard/smart worker                           False\n",
      "worked in teams ever?                       False\n",
      "Introvert                                   False\n",
      "Suggested Job Role                          False\n",
      "dtype: bool\n"
     ]
    }
   ],
   "source": [
    "#checking for null\n",
    "print(dataset.isnull().sum())\n",
    "print()\n",
    "print(\"Any Empty Cell : \", dataset.isnull().all())"
   ]
  },
  {
   "cell_type": "markdown",
   "metadata": {
    "id": "EtLla5wv1L9c"
   },
   "source": [
    "# **Label Encoding and normalizing data**"
   ]
  },
  {
   "cell_type": "code",
   "execution_count": null,
   "metadata": {
    "colab": {
     "base_uri": "https://localhost:8080/",
     "height": 835
    },
    "id": "pNh3Rk05kiLI",
    "outputId": "6de64522-6162-4ced-d08f-c8e6c6e9fad3"
   },
   "outputs": [
    {
     "data": {
      "text/html": [
       "<div>\n",
       "<style scoped>\n",
       "    .dataframe tbody tr th:only-of-type {\n",
       "        vertical-align: middle;\n",
       "    }\n",
       "\n",
       "    .dataframe tbody tr th {\n",
       "        vertical-align: top;\n",
       "    }\n",
       "\n",
       "    .dataframe thead th {\n",
       "        text-align: right;\n",
       "    }\n",
       "</style>\n",
       "<table border=\"1\" class=\"dataframe\">\n",
       "  <thead>\n",
       "    <tr style=\"text-align: right;\">\n",
       "      <th></th>\n",
       "      <th>Acedamic percentage in Operating Systems</th>\n",
       "      <th>percentage in Algorithms</th>\n",
       "      <th>Percentage in Programming Concepts</th>\n",
       "      <th>Percentage in Software Engineering</th>\n",
       "      <th>Percentage in Computer Networks</th>\n",
       "      <th>Percentage in Electronics Subjects</th>\n",
       "      <th>Percentage in Computer Architecture</th>\n",
       "      <th>Percentage in Mathematics</th>\n",
       "      <th>Percentage in Communication skills</th>\n",
       "      <th>Hours working per day</th>\n",
       "      <th>...</th>\n",
       "      <th>Interested Type of Books</th>\n",
       "      <th>Salary Range Expected</th>\n",
       "      <th>In a Realtionship?</th>\n",
       "      <th>Gentle or Tuff behaviour?</th>\n",
       "      <th>Management or Technical</th>\n",
       "      <th>Salary/work</th>\n",
       "      <th>hard/smart worker</th>\n",
       "      <th>worked in teams ever?</th>\n",
       "      <th>Introvert</th>\n",
       "      <th>Suggested Job Role</th>\n",
       "    </tr>\n",
       "  </thead>\n",
       "  <tbody>\n",
       "    <tr>\n",
       "      <th>0</th>\n",
       "      <td>69</td>\n",
       "      <td>63</td>\n",
       "      <td>78</td>\n",
       "      <td>87</td>\n",
       "      <td>94</td>\n",
       "      <td>94</td>\n",
       "      <td>87</td>\n",
       "      <td>84</td>\n",
       "      <td>61</td>\n",
       "      <td>9</td>\n",
       "      <td>...</td>\n",
       "      <td>21</td>\n",
       "      <td>1</td>\n",
       "      <td>0</td>\n",
       "      <td>1</td>\n",
       "      <td>0</td>\n",
       "      <td>0</td>\n",
       "      <td>0</td>\n",
       "      <td>1</td>\n",
       "      <td>0</td>\n",
       "      <td>Database Developer</td>\n",
       "    </tr>\n",
       "    <tr>\n",
       "      <th>1</th>\n",
       "      <td>78</td>\n",
       "      <td>62</td>\n",
       "      <td>73</td>\n",
       "      <td>60</td>\n",
       "      <td>71</td>\n",
       "      <td>70</td>\n",
       "      <td>73</td>\n",
       "      <td>84</td>\n",
       "      <td>91</td>\n",
       "      <td>12</td>\n",
       "      <td>...</td>\n",
       "      <td>5</td>\n",
       "      <td>1</td>\n",
       "      <td>1</td>\n",
       "      <td>0</td>\n",
       "      <td>1</td>\n",
       "      <td>0</td>\n",
       "      <td>0</td>\n",
       "      <td>0</td>\n",
       "      <td>1</td>\n",
       "      <td>Portal Administrator</td>\n",
       "    </tr>\n",
       "    <tr>\n",
       "      <th>2</th>\n",
       "      <td>71</td>\n",
       "      <td>86</td>\n",
       "      <td>91</td>\n",
       "      <td>87</td>\n",
       "      <td>61</td>\n",
       "      <td>81</td>\n",
       "      <td>72</td>\n",
       "      <td>72</td>\n",
       "      <td>94</td>\n",
       "      <td>11</td>\n",
       "      <td>...</td>\n",
       "      <td>29</td>\n",
       "      <td>0</td>\n",
       "      <td>0</td>\n",
       "      <td>1</td>\n",
       "      <td>0</td>\n",
       "      <td>1</td>\n",
       "      <td>0</td>\n",
       "      <td>0</td>\n",
       "      <td>1</td>\n",
       "      <td>Portal Administrator</td>\n",
       "    </tr>\n",
       "    <tr>\n",
       "      <th>3</th>\n",
       "      <td>76</td>\n",
       "      <td>87</td>\n",
       "      <td>60</td>\n",
       "      <td>84</td>\n",
       "      <td>89</td>\n",
       "      <td>73</td>\n",
       "      <td>62</td>\n",
       "      <td>88</td>\n",
       "      <td>69</td>\n",
       "      <td>7</td>\n",
       "      <td>...</td>\n",
       "      <td>23</td>\n",
       "      <td>0</td>\n",
       "      <td>1</td>\n",
       "      <td>0</td>\n",
       "      <td>0</td>\n",
       "      <td>1</td>\n",
       "      <td>1</td>\n",
       "      <td>1</td>\n",
       "      <td>1</td>\n",
       "      <td>Systems Security Administrator</td>\n",
       "    </tr>\n",
       "    <tr>\n",
       "      <th>4</th>\n",
       "      <td>92</td>\n",
       "      <td>62</td>\n",
       "      <td>90</td>\n",
       "      <td>67</td>\n",
       "      <td>71</td>\n",
       "      <td>89</td>\n",
       "      <td>73</td>\n",
       "      <td>71</td>\n",
       "      <td>73</td>\n",
       "      <td>4</td>\n",
       "      <td>...</td>\n",
       "      <td>7</td>\n",
       "      <td>1</td>\n",
       "      <td>0</td>\n",
       "      <td>1</td>\n",
       "      <td>0</td>\n",
       "      <td>1</td>\n",
       "      <td>0</td>\n",
       "      <td>1</td>\n",
       "      <td>1</td>\n",
       "      <td>Business Systems Analyst</td>\n",
       "    </tr>\n",
       "    <tr>\n",
       "      <th>...</th>\n",
       "      <td>...</td>\n",
       "      <td>...</td>\n",
       "      <td>...</td>\n",
       "      <td>...</td>\n",
       "      <td>...</td>\n",
       "      <td>...</td>\n",
       "      <td>...</td>\n",
       "      <td>...</td>\n",
       "      <td>...</td>\n",
       "      <td>...</td>\n",
       "      <td>...</td>\n",
       "      <td>...</td>\n",
       "      <td>...</td>\n",
       "      <td>...</td>\n",
       "      <td>...</td>\n",
       "      <td>...</td>\n",
       "      <td>...</td>\n",
       "      <td>...</td>\n",
       "      <td>...</td>\n",
       "      <td>...</td>\n",
       "      <td>...</td>\n",
       "    </tr>\n",
       "    <tr>\n",
       "      <th>19995</th>\n",
       "      <td>83</td>\n",
       "      <td>67</td>\n",
       "      <td>62</td>\n",
       "      <td>63</td>\n",
       "      <td>81</td>\n",
       "      <td>74</td>\n",
       "      <td>90</td>\n",
       "      <td>84</td>\n",
       "      <td>69</td>\n",
       "      <td>4</td>\n",
       "      <td>...</td>\n",
       "      <td>17</td>\n",
       "      <td>0</td>\n",
       "      <td>1</td>\n",
       "      <td>1</td>\n",
       "      <td>0</td>\n",
       "      <td>0</td>\n",
       "      <td>1</td>\n",
       "      <td>1</td>\n",
       "      <td>0</td>\n",
       "      <td>Technical Engineer</td>\n",
       "    </tr>\n",
       "    <tr>\n",
       "      <th>19996</th>\n",
       "      <td>80</td>\n",
       "      <td>69</td>\n",
       "      <td>83</td>\n",
       "      <td>87</td>\n",
       "      <td>82</td>\n",
       "      <td>66</td>\n",
       "      <td>66</td>\n",
       "      <td>92</td>\n",
       "      <td>67</td>\n",
       "      <td>7</td>\n",
       "      <td>...</td>\n",
       "      <td>7</td>\n",
       "      <td>1</td>\n",
       "      <td>0</td>\n",
       "      <td>1</td>\n",
       "      <td>0</td>\n",
       "      <td>0</td>\n",
       "      <td>0</td>\n",
       "      <td>0</td>\n",
       "      <td>1</td>\n",
       "      <td>E-Commerce Analyst</td>\n",
       "    </tr>\n",
       "    <tr>\n",
       "      <th>19997</th>\n",
       "      <td>83</td>\n",
       "      <td>70</td>\n",
       "      <td>80</td>\n",
       "      <td>87</td>\n",
       "      <td>64</td>\n",
       "      <td>85</td>\n",
       "      <td>69</td>\n",
       "      <td>94</td>\n",
       "      <td>88</td>\n",
       "      <td>7</td>\n",
       "      <td>...</td>\n",
       "      <td>10</td>\n",
       "      <td>0</td>\n",
       "      <td>1</td>\n",
       "      <td>0</td>\n",
       "      <td>1</td>\n",
       "      <td>1</td>\n",
       "      <td>0</td>\n",
       "      <td>0</td>\n",
       "      <td>1</td>\n",
       "      <td>Business Intelligence Analyst</td>\n",
       "    </tr>\n",
       "    <tr>\n",
       "      <th>19998</th>\n",
       "      <td>68</td>\n",
       "      <td>87</td>\n",
       "      <td>91</td>\n",
       "      <td>88</td>\n",
       "      <td>66</td>\n",
       "      <td>74</td>\n",
       "      <td>61</td>\n",
       "      <td>87</td>\n",
       "      <td>61</td>\n",
       "      <td>5</td>\n",
       "      <td>...</td>\n",
       "      <td>29</td>\n",
       "      <td>0</td>\n",
       "      <td>0</td>\n",
       "      <td>0</td>\n",
       "      <td>0</td>\n",
       "      <td>1</td>\n",
       "      <td>1</td>\n",
       "      <td>1</td>\n",
       "      <td>0</td>\n",
       "      <td>Software Quality Assurance (QA) / Testing</td>\n",
       "    </tr>\n",
       "    <tr>\n",
       "      <th>19999</th>\n",
       "      <td>73</td>\n",
       "      <td>77</td>\n",
       "      <td>74</td>\n",
       "      <td>84</td>\n",
       "      <td>70</td>\n",
       "      <td>65</td>\n",
       "      <td>92</td>\n",
       "      <td>73</td>\n",
       "      <td>90</td>\n",
       "      <td>7</td>\n",
       "      <td>...</td>\n",
       "      <td>6</td>\n",
       "      <td>0</td>\n",
       "      <td>0</td>\n",
       "      <td>0</td>\n",
       "      <td>0</td>\n",
       "      <td>1</td>\n",
       "      <td>0</td>\n",
       "      <td>1</td>\n",
       "      <td>0</td>\n",
       "      <td>Applications Developer</td>\n",
       "    </tr>\n",
       "  </tbody>\n",
       "</table>\n",
       "<p>20000 rows × 39 columns</p>\n",
       "</div>"
      ],
      "text/plain": [
       "       Acedamic percentage in Operating Systems  percentage in Algorithms  \\\n",
       "0                                            69                        63   \n",
       "1                                            78                        62   \n",
       "2                                            71                        86   \n",
       "3                                            76                        87   \n",
       "4                                            92                        62   \n",
       "...                                         ...                       ...   \n",
       "19995                                        83                        67   \n",
       "19996                                        80                        69   \n",
       "19997                                        83                        70   \n",
       "19998                                        68                        87   \n",
       "19999                                        73                        77   \n",
       "\n",
       "       Percentage in Programming Concepts  Percentage in Software Engineering  \\\n",
       "0                                      78                                  87   \n",
       "1                                      73                                  60   \n",
       "2                                      91                                  87   \n",
       "3                                      60                                  84   \n",
       "4                                      90                                  67   \n",
       "...                                   ...                                 ...   \n",
       "19995                                  62                                  63   \n",
       "19996                                  83                                  87   \n",
       "19997                                  80                                  87   \n",
       "19998                                  91                                  88   \n",
       "19999                                  74                                  84   \n",
       "\n",
       "       Percentage in Computer Networks  Percentage in Electronics Subjects  \\\n",
       "0                                   94                                  94   \n",
       "1                                   71                                  70   \n",
       "2                                   61                                  81   \n",
       "3                                   89                                  73   \n",
       "4                                   71                                  89   \n",
       "...                                ...                                 ...   \n",
       "19995                               81                                  74   \n",
       "19996                               82                                  66   \n",
       "19997                               64                                  85   \n",
       "19998                               66                                  74   \n",
       "19999                               70                                  65   \n",
       "\n",
       "       Percentage in Computer Architecture  Percentage in Mathematics  \\\n",
       "0                                       87                         84   \n",
       "1                                       73                         84   \n",
       "2                                       72                         72   \n",
       "3                                       62                         88   \n",
       "4                                       73                         71   \n",
       "...                                    ...                        ...   \n",
       "19995                                   90                         84   \n",
       "19996                                   66                         92   \n",
       "19997                                   69                         94   \n",
       "19998                                   61                         87   \n",
       "19999                                   92                         73   \n",
       "\n",
       "       Percentage in Communication skills  Hours working per day  ...  \\\n",
       "0                                      61                      9  ...   \n",
       "1                                      91                     12  ...   \n",
       "2                                      94                     11  ...   \n",
       "3                                      69                      7  ...   \n",
       "4                                      73                      4  ...   \n",
       "...                                   ...                    ...  ...   \n",
       "19995                                  69                      4  ...   \n",
       "19996                                  67                      7  ...   \n",
       "19997                                  88                      7  ...   \n",
       "19998                                  61                      5  ...   \n",
       "19999                                  90                      7  ...   \n",
       "\n",
       "       Interested Type of Books  Salary Range Expected  In a Realtionship?  \\\n",
       "0                            21                      1                   0   \n",
       "1                             5                      1                   1   \n",
       "2                            29                      0                   0   \n",
       "3                            23                      0                   1   \n",
       "4                             7                      1                   0   \n",
       "...                         ...                    ...                 ...   \n",
       "19995                        17                      0                   1   \n",
       "19996                         7                      1                   0   \n",
       "19997                        10                      0                   1   \n",
       "19998                        29                      0                   0   \n",
       "19999                         6                      0                   0   \n",
       "\n",
       "       Gentle or Tuff behaviour?  Management or Technical  Salary/work  \\\n",
       "0                              1                        0            0   \n",
       "1                              0                        1            0   \n",
       "2                              1                        0            1   \n",
       "3                              0                        0            1   \n",
       "4                              1                        0            1   \n",
       "...                          ...                      ...          ...   \n",
       "19995                          1                        0            0   \n",
       "19996                          1                        0            0   \n",
       "19997                          0                        1            1   \n",
       "19998                          0                        0            1   \n",
       "19999                          0                        0            1   \n",
       "\n",
       "       hard/smart worker  worked in teams ever?  Introvert  \\\n",
       "0                      0                      1          0   \n",
       "1                      0                      0          1   \n",
       "2                      0                      0          1   \n",
       "3                      1                      1          1   \n",
       "4                      0                      1          1   \n",
       "...                  ...                    ...        ...   \n",
       "19995                  1                      1          0   \n",
       "19996                  0                      0          1   \n",
       "19997                  0                      0          1   \n",
       "19998                  1                      1          0   \n",
       "19999                  0                      1          0   \n",
       "\n",
       "                              Suggested Job Role  \n",
       "0                             Database Developer  \n",
       "1                           Portal Administrator  \n",
       "2                           Portal Administrator  \n",
       "3                 Systems Security Administrator  \n",
       "4                       Business Systems Analyst  \n",
       "...                                          ...  \n",
       "19995                         Technical Engineer  \n",
       "19996                         E-Commerce Analyst  \n",
       "19997              Business Intelligence Analyst  \n",
       "19998  Software Quality Assurance (QA) / Testing  \n",
       "19999                     Applications Developer  \n",
       "\n",
       "[20000 rows x 39 columns]"
      ]
     },
     "execution_count": 20,
     "metadata": {},
     "output_type": "execute_result"
    }
   ],
   "source": [
    "#Label Encoding the rest of the columns\n",
    "for col_value in range(14,38):\n",
    "  \n",
    "  labelencoder = LabelEncoder()\n",
    "  \n",
    "  column = all_columns[col_value]\n",
    "  dataset[column] = labelencoder.fit_transform(dataset[column])\n",
    "\n",
    "dataset"
   ]
  },
  {
   "cell_type": "code",
   "execution_count": null,
   "metadata": {
    "colab": {
     "base_uri": "https://localhost:8080/"
    },
    "id": "Rg7ZCm7CkiHs",
    "outputId": "1091aa6a-5c9d-462e-cebb-bb0cc0013010"
   },
   "outputs": [
    {
     "data": {
      "text/plain": [
       "array([[1, 1, 1, ..., 0, 1, 0],\n",
       "       [1, 0, 1, ..., 0, 0, 1],\n",
       "       [1, 0, 1, ..., 0, 0, 1],\n",
       "       ...,\n",
       "       [1, 1, 1, ..., 0, 0, 1],\n",
       "       [0, 0, 0, ..., 1, 1, 0],\n",
       "       [1, 1, 1, ..., 0, 1, 0]])"
      ]
     },
     "execution_count": 21,
     "metadata": {},
     "output_type": "execute_result"
    }
   ],
   "source": [
    "encoded_data = np.array(dataset.iloc[:,14:38])\n",
    "encoded_data\n"
   ]
  },
  {
   "cell_type": "code",
   "execution_count": null,
   "metadata": {
    "colab": {
     "base_uri": "https://localhost:8080/"
    },
    "id": "4KO3EDJ_kiFm",
    "outputId": "b433d3a4-4710-4120-d0c7-845d770fa9e7"
   },
   "outputs": [
    {
     "data": {
      "text/plain": [
       "array([[0.28508989, 0.26029947, 0.32227553, ..., 0.        , 0.01652695,\n",
       "        0.0330539 ],\n",
       "       [0.34997994, 0.27818918, 0.32754533, ..., 0.00448692, 0.00897384,\n",
       "        0.01346077],\n",
       "       [0.29501244, 0.35733901, 0.37811453, ..., 0.01662042, 0.0041551 ,\n",
       "        0.01246531],\n",
       "       ...,\n",
       "       [0.3430836 , 0.28934762, 0.33068299, ..., 0.02480122, 0.00826707,\n",
       "        0.01240061],\n",
       "       [0.29479246, 0.37716094, 0.39450167, ..., 0.01734073, 0.03901665,\n",
       "        0.02167592],\n",
       "       [0.31140896, 0.32847247, 0.31567484, ..., 0.00426588, 0.02986113,\n",
       "        0.02559526]])"
      ]
     },
     "execution_count": 22,
     "metadata": {},
     "output_type": "execute_result"
    }
   ],
   "source": [
    "data_a = dataset.iloc[:,0:14]\n",
    "normalized_data = Normalizer().fit_transform(data_a)\n",
    "normalized_data\n"
   ]
  },
  {
   "cell_type": "code",
   "execution_count": null,
   "metadata": {
    "colab": {
     "base_uri": "https://localhost:8080/"
    },
    "id": "4atz-LpQkiDT",
    "outputId": "6ea07ee1-bf9e-43f5-d31c-3216427ab517"
   },
   "outputs": [
    {
     "name": "stdout",
     "output_type": "stream",
     "text": [
      "Shape of X - Input:  (20000, 38)\n",
      "\n"
     ]
    },
    {
     "data": {
      "text/plain": [
       "array([[0.28508989, 0.26029947, 0.32227553, ..., 0.        , 1.        ,\n",
       "        0.        ],\n",
       "       [0.34997994, 0.27818918, 0.32754533, ..., 0.        , 0.        ,\n",
       "        1.        ],\n",
       "       [0.29501244, 0.35733901, 0.37811453, ..., 0.        , 0.        ,\n",
       "        1.        ],\n",
       "       ...,\n",
       "       [0.3430836 , 0.28934762, 0.33068299, ..., 0.        , 0.        ,\n",
       "        1.        ],\n",
       "       [0.29479246, 0.37716094, 0.39450167, ..., 1.        , 1.        ,\n",
       "        0.        ],\n",
       "       [0.31140896, 0.32847247, 0.31567484, ..., 0.        , 1.        ,\n",
       "        0.        ]])"
      ]
     },
     "execution_count": 23,
     "metadata": {},
     "output_type": "execute_result"
    }
   ],
   "source": [
    "X = np.append(normalized_data, encoded_data, axis = 1)\n",
    "print(\"Shape of X - Input: \", X.shape)\n",
    "print()\n",
    "X"
   ]
  },
  {
   "cell_type": "code",
   "execution_count": null,
   "metadata": {
    "id": "ywLndTHz6wzj"
   },
   "outputs": [],
   "source": [
    "X_temp = dataset.iloc[:,:-1]\n",
    "y_temp = dataset.iloc[:,-1]\n",
    "from sklearn.preprocessing import OneHotEncoder\n",
    "X1 = OneHotEncoder().fit_transform(X_temp)"
   ]
  },
  {
   "cell_type": "code",
   "execution_count": null,
   "metadata": {
    "id": "0qBmCe4f6wzj",
    "outputId": "d650e4f4-d79a-43fc-e4be-58deaab1c627"
   },
   "outputs": [
    {
     "name": "stderr",
     "output_type": "stream",
     "text": [
      "c:\\users\\legion\\appdata\\local\\programs\\python\\python38\\lib\\site-packages\\sklearn\\neural_network\\_multilayer_perceptron.py:702: ConvergenceWarning: Stochastic Optimizer: Maximum iterations (200) reached and the optimization hasn't converged yet.\n",
      "  warnings.warn(\n"
     ]
    },
    {
     "name": "stdout",
     "output_type": "stream",
     "text": [
      "Accuracy score calculated on Test Data :  0.03075\n",
      "Confusion matrix :  [[ 3  2  3 ...  0  3  2]\n",
      " [ 4  3  4 ...  4  2  4]\n",
      " [ 0  5  2 ...  2  5  2]\n",
      " ...\n",
      " [ 4  1  4 ...  4  3  2]\n",
      " [ 4  4  3 ...  5  4  2]\n",
      " [ 1 10  0 ...  5  4  2]]\n",
      "\n",
      "Classwise accuracy :  [0.02857143 0.02970297 0.01612903 0.04385965 0.025      0.09009009\n",
      " 0.01785714 0.01869159 0.02459016 0.02419355 0.0173913  0.02857143\n",
      " 0.01886792 0.03389831 0.00900901 0.04132231 0.04587156 0.01515152\n",
      " 0.04032258 0.06122449 0.02631579 0.02521008 0.01785714 0.02439024\n",
      " 0.02830189 0.04761905 0.04065041 0.00884956 0.01052632 0.05084746\n",
      " 0.03305785 0.03636364 0.03478261 0.01709402]\n",
      "\n",
      "Classification report : \n",
      "                                           precision    recall  f1-score   support\n",
      "\n",
      "                   Applications Developer       0.03      0.03      0.03       105\n",
      "            Business Intelligence Analyst       0.02      0.03      0.03       101\n",
      "                 Business Systems Analyst       0.02      0.02      0.02       124\n",
      "                     CRM Business Analyst       0.04      0.04      0.04       114\n",
      "                  CRM Technical Developer       0.03      0.03      0.03       120\n",
      "                           Data Architect       0.08      0.09      0.09       111\n",
      "                   Database Administrator       0.02      0.02      0.02       112\n",
      "                       Database Developer       0.02      0.02      0.02       107\n",
      "                         Database Manager       0.03      0.02      0.03       122\n",
      "                              Design & UX       0.03      0.02      0.03       124\n",
      "                       E-Commerce Analyst       0.02      0.02      0.02       115\n",
      "             Information Security Analyst       0.02      0.03      0.03       105\n",
      "           Information Technology Auditor       0.02      0.02      0.02       106\n",
      "           Information Technology Manager       0.04      0.03      0.03       118\n",
      "            Mobile Applications Developer       0.01      0.01      0.01       111\n",
      "                         Network Engineer       0.04      0.04      0.04       121\n",
      "           Network Security Administrator       0.05      0.05      0.05       218\n",
      "                Network Security Engineer       0.02      0.02      0.02       132\n",
      "                     Portal Administrator       0.05      0.04      0.05       124\n",
      "                       Programmer Analyst       0.05      0.06      0.06        98\n",
      "                          Project Manager       0.02      0.03      0.02       114\n",
      "              Quality Assurance Associate       0.03      0.03      0.03       119\n",
      "                       Software Developer       0.02      0.02      0.02       112\n",
      "                        Software Engineer       0.02      0.02      0.02       123\n",
      "Software Quality Assurance (QA) / Testing       0.03      0.03      0.03       106\n",
      "                Software Systems Engineer       0.05      0.05      0.05       126\n",
      "                      Solutions Architect       0.04      0.04      0.04       123\n",
      "                          Systems Analyst       0.01      0.01      0.01       113\n",
      "           Systems Security Administrator       0.01      0.01      0.01        95\n",
      "                       Technical Engineer       0.05      0.05      0.05       118\n",
      "Technical Services/Help Desk/Tech Support       0.03      0.03      0.03       121\n",
      "                        Technical Support       0.03      0.04      0.03       110\n",
      "                              UX Designer       0.04      0.03      0.04       115\n",
      "                            Web Developer       0.02      0.02      0.02       117\n",
      "\n",
      "                                 accuracy                           0.03      4000\n",
      "                                macro avg       0.03      0.03      0.03      4000\n",
      "                             weighted avg       0.03      0.03      0.03      4000\n",
      "\n"
     ]
    },
    {
     "data": {
      "image/png": "[encoded data removed]",
      "text/plain": [
       "<Figure size 640x480 with 2 Axes>"
      ]
     },
     "metadata": {},
     "output_type": "display_data"
    }
   ],
   "source": [
    "\n",
    "\n",
    "from sklearn.neural_network import MLPClassifier\n",
    "from sklearn.model_selection import train_test_split\n",
    "\n",
    "accuracy0=[]\n",
    "\n",
    "\n",
    "train0_X, test0_X, train0_Y , test0_Y = train_test_split(X1,y_temp,test_size=0.2)         \n",
    "prediction0 = MLPClassifier(random_state=45).fit(train0_X,train0_Y)\n",
    "score_0=prediction0.score(test0_X,test0_Y)\n",
    "y_pred0 = prediction0.predict(test0_X)\n",
    "print('Accuracy score calculated on Test Data : ',score_0)\n",
    "cmatrix=confusion_matrix(test0_Y, y_pred0)\n",
    "print('Confusion matrix : ',cmatrix)\n",
    "print()\n",
    "sns.heatmap(cmatrix, annot=True,fmt=\"d\",cmap='Blues')\n",
    "matrix_0 = confusion_matrix(test0_Y, y_pred0)\n",
    "print('Classwise accuracy : ',matrix_0.diagonal()/matrix_0.sum(axis=1) )\n",
    "print()\n",
    "print('Classification report : ')\n",
    "labels = np.unique(dataset['Suggested Job Role'])\n",
    "print(classification_report(test0_Y, y_pred0))\n",
    "accuracy0.append(score_0)\n"
   ]
  },
  {
   "cell_type": "markdown",
   "metadata": {
    "id": "2HLA6rIk1qqH"
   },
   "source": [
    "# All labels initially **before** reduction of classes"
   ]
  },
  {
   "cell_type": "code",
   "execution_count": null,
   "metadata": {
    "colab": {
     "base_uri": "https://localhost:8080/"
    },
    "id": "HdWlthDjkiA8",
    "outputId": "0616072b-56f7-43b9-b6d8-f49cc26be936"
   },
   "outputs": [
    {
     "name": "stdout",
     "output_type": "stream",
     "text": [
      "Counting all the labels\n",
      "\n"
     ]
    },
    {
     "data": {
      "text/plain": [
       "Counter({'Database Developer': 581,\n",
       "         'Portal Administrator': 593,\n",
       "         'Systems Security Administrator': 562,\n",
       "         'Business Systems Analyst': 582,\n",
       "         'Software Systems Engineer': 575,\n",
       "         'Business Intelligence Analyst': 540,\n",
       "         'CRM Technical Developer': 567,\n",
       "         'Mobile Applications Developer': 538,\n",
       "         'UX Designer': 589,\n",
       "         'Quality Assurance Associate': 565,\n",
       "         'Web Developer': 570,\n",
       "         'Information Security Analyst': 543,\n",
       "         'CRM Business Analyst': 584,\n",
       "         'Technical Support': 565,\n",
       "         'Project Manager': 602,\n",
       "         'Information Technology Manager': 591,\n",
       "         'Programmer Analyst': 529,\n",
       "         'Design & UX': 588,\n",
       "         'Solutions Architect': 578,\n",
       "         'Systems Analyst': 550,\n",
       "         'Network Security Administrator': 1112,\n",
       "         'Data Architect': 564,\n",
       "         'Software Developer': 587,\n",
       "         'E-Commerce Analyst': 546,\n",
       "         'Technical Services/Help Desk/Tech Support': 558,\n",
       "         'Information Technology Auditor': 558,\n",
       "         'Database Manager': 570,\n",
       "         'Applications Developer': 551,\n",
       "         'Database Administrator': 593,\n",
       "         'Network Engineer': 621,\n",
       "         'Software Engineer': 590,\n",
       "         'Technical Engineer': 557,\n",
       "         'Network Security Engineer': 630,\n",
       "         'Software Quality Assurance (QA) / Testing': 571})"
      ]
     },
     "execution_count": 24,
     "metadata": {},
     "output_type": "execute_result"
    }
   ],
   "source": [
    "print('Counting all the labels\\n')\n",
    "Counter(dataset['Suggested Job Role'])"
   ]
  },
  {
   "cell_type": "markdown",
   "metadata": {
    "id": "7dct93ka14ic"
   },
   "source": [
    "# **Reducing to 5 classes**"
   ]
  },
  {
   "cell_type": "code",
   "execution_count": null,
   "metadata": {
    "id": "cLVLJRLDkh-u"
   },
   "outputs": [],
   "source": [
    "#Creating the output columns to 5 to 7 classes\n",
    "new_data = copy.deepcopy(dataset)\n",
    "\n",
    "#conversion to analyst\n",
    "\n",
    "new_data['Suggested Job Role'].replace({'Business Systems Analyst':'Analyst','Information Security Analyst':'Analyst', 'Business Intelligence Analyst':'Analyst', 'Systems Analyst':'Analyst',  'E-Commerce Analyst':'Analyst','Programmer Analyst':'Analyst','CRM Business Analyst':'Analyst' }, inplace=True)\n",
    "\n",
    "#Conversion to developer\n",
    "\n",
    "new_data['Suggested Job Role'].replace({'CRM Technical Developer':'Dev', 'Applications Developer':'Dev','Software Developer':'Dev','Mobile Applications Developer':'Dev','Database Developer':'Dev','Web Developer':'Dev'}, inplace = True)\n",
    "#Conversion to quality assurance \n",
    "\n",
    "new_data['Suggested Job Role'].replace({'Software Quality Assurance (QA) / Testing':'Quality Assurer','Quality Assurance Associate':'Quality Assurer'}, inplace=True)\n",
    "\n",
    "#conversion to networking\n",
    "new_data['Suggested Job Role'].replace({'Network Engineer':'Networking', 'Network Security Administrator':'Networking', 'Network Security Engineer':'Networking','Portal Administrator':'Networking', 'Systems Security Administrator':'Networking'}, inplace=True)\n",
    "\n",
    "#Converting to UX\n",
    "new_data['Suggested Job Role'].replace({'UX Designer':'UX','Design & UX':'UX'}, inplace=True)\n",
    "\n",
    "#conversion to technical support\n",
    "new_data['Suggested Job Role'].replace({'Technical Engineer':'Technical Support','Technical Services/Help Desk/Tech Support':'Technical Support', 'Technical Support':'Technical Support'}, inplace=True)\n",
    "\n",
    "#conversion to data scientist\n",
    "new_data['Suggested Job Role'].replace({'Database Administrator':'Data Scientist','Data Architect':'Data Scientist', 'Database Manager':'Data Scientist'}, inplace=True)\n",
    "\n",
    "#conversion to SWE\n",
    "new_data['Suggested Job Role'].replace({ 'Information Technology Manager':'Software Engineer','Solutions Architect':'Software Engineer','Software Engineer':'Software Engineer', 'Information Technology Auditor':'Software Engineer','Software Systems Engineer':'Software Engineer'}, inplace=True)\n",
    "\n",
    "#further reductions\n",
    "new_data['Suggested Job Role'].replace({'Dev':'Developer/UX Designer',  'UX':'Developer/UX Designer'}, inplace=True)\n",
    "\n",
    "\n",
    "\n",
    "new_data['Suggested Job Role'].replace({'Software Engineer':'Software Engineer/Quality Assurance',  'Quality Assurer':'Software Engineer/Quality Assurance'}, inplace=True)\n",
    "\n",
    "\n",
    "new_data['Suggested Job Role'].replace({'Data Scientist':'Technical Support/Database Engineer','Technical Support':'Technical Support/Database Engineer'}, inplace=True)\n",
    "\n",
    "\n",
    "new_data['Suggested Job Role'].replace({'Networking':'Network Security/Project Manager','Project Manager':'Network Security/Project Manager'}, inplace=True)\n",
    "    "
   ]
  },
  {
   "cell_type": "markdown",
   "metadata": {
    "id": "sUBjN3tG19la"
   },
   "source": [
    "# **Counting new labels after reduction of classes**"
   ]
  },
  {
   "cell_type": "code",
   "execution_count": null,
   "metadata": {
    "colab": {
     "base_uri": "https://localhost:8080/"
    },
    "id": "wy9Je0Wvkh8R",
    "outputId": "7b36d476-7f84-4075-df67-bff5b3dbd990"
   },
   "outputs": [
    {
     "name": "stdout",
     "output_type": "stream",
     "text": [
      "Counting labels after merging classes\n"
     ]
    },
    {
     "data": {
      "text/plain": [
       "Counter({'Developer/UX Designer': 4571,\n",
       "         'Network Security/Project Manager': 4120,\n",
       "         'Analyst': 3874,\n",
       "         'Software Engineer/Quality Assurance': 4028,\n",
       "         'Technical Support/Database Engineer': 3407})"
      ]
     },
     "execution_count": 26,
     "metadata": {},
     "output_type": "execute_result"
    }
   ],
   "source": [
    "print('Counting labels after merging classes')\n",
    "Counter(new_data['Suggested Job Role'])"
   ]
  },
  {
   "cell_type": "code",
   "execution_count": null,
   "metadata": {
    "colab": {
     "base_uri": "https://localhost:8080/"
    },
    "id": "g_EkAud8khpt",
    "outputId": "723723f7-a2d2-4b82-fe10-67fc965af243"
   },
   "outputs": [
    {
     "data": {
      "text/plain": [
       "array([1, 2, 2, ..., 0, 3, 1])"
      ]
     },
     "execution_count": 27,
     "metadata": {},
     "output_type": "execute_result"
    }
   ],
   "source": [
    "lbl = LabelEncoder()\n",
    "new_data['Suggested Job Role'] = lbl.fit_transform(new_data['Suggested Job Role'])\n",
    "y1 = new_data['Suggested Job Role']\n",
    "y1 = np.array(y1)\n",
    "y1"
   ]
  },
  {
   "cell_type": "code",
   "execution_count": null,
   "metadata": {
    "id": "N2Q1SED6feim"
   },
   "outputs": [],
   "source": []
  },
  {
   "cell_type": "markdown",
   "metadata": {
    "id": "yM3B2jG22Ftw"
   },
   "source": [
    "# **Training and running model #1 to determine best training split and activator** "
   ]
  },
  {
   "cell_type": "code",
   "execution_count": null,
   "metadata": {
    "colab": {
     "base_uri": "https://localhost:8080/"
    },
    "id": "fQeDSjZ4Us5R",
    "outputId": "5f3a93c6-c0b4-4d8c-d017-f5144109338b"
   },
   "outputs": [
    {
     "name": "stdout",
     "output_type": "stream",
     "text": [
      "test_size is 0.1\n",
      "Activation:  identity\n",
      "Accuracy score calculated on Test Data (initiALLY) :  0.214\n",
      "Activation:  logistic\n",
      "Accuracy score calculated on Test Data (initiALLY) :  0.2075\n",
      "Activation:  tanh\n",
      "Accuracy score calculated on Test Data (initiALLY) :  0.21\n",
      "Activation:  relu\n",
      "Accuracy score calculated on Test Data (initiALLY) :  0.221\n",
      "test_size is 0.2\n",
      "Activation:  identity\n",
      "Accuracy score calculated on Test Data (initiALLY) :  0.20325\n",
      "Activation:  logistic\n",
      "Accuracy score calculated on Test Data (initiALLY) :  0.21975\n",
      "Activation:  tanh\n",
      "Accuracy score calculated on Test Data (initiALLY) :  0.20825\n",
      "Activation:  relu\n",
      "Accuracy score calculated on Test Data (initiALLY) :  0.21075\n",
      "test_size is 0.3\n",
      "Activation:  identity\n",
      "Accuracy score calculated on Test Data (initiALLY) :  0.20516666666666666\n",
      "Activation:  logistic\n",
      "Accuracy score calculated on Test Data (initiALLY) :  0.1975\n",
      "Activation:  tanh\n",
      "Accuracy score calculated on Test Data (initiALLY) :  0.20116666666666666\n",
      "Activation:  relu\n",
      "Accuracy score calculated on Test Data (initiALLY) :  0.20283333333333334\n",
      "test_size is 0.4\n",
      "Activation:  identity\n",
      "Accuracy score calculated on Test Data (initiALLY) :  0.199125\n",
      "Activation:  logistic\n",
      "Accuracy score calculated on Test Data (initiALLY) :  0.2085\n",
      "Activation:  tanh\n",
      "Accuracy score calculated on Test Data (initiALLY) :  0.201\n",
      "Activation:  relu\n",
      "Accuracy score calculated on Test Data (initiALLY) :  0.2035\n",
      "test_size is 0.5\n",
      "Activation:  identity\n",
      "Accuracy score calculated on Test Data (initiALLY) :  0.2129\n",
      "Activation:  logistic\n",
      "Accuracy score calculated on Test Data (initiALLY) :  0.2041\n",
      "Activation:  tanh\n",
      "Accuracy score calculated on Test Data (initiALLY) :  0.2048\n",
      "Activation:  relu\n",
      "Accuracy score calculated on Test Data (initiALLY) :  0.2046\n"
     ]
    }
   ],
   "source": [
    "#training and predicting model once \n",
    "# from sklearn.model_selection import GridSearchCV\n",
    "# train1_X, test1_X, train1_Y , test1_Y = train_test_split(X,y1,test_size=0.2)\n",
    "# search = GridSearchCV(MLPClassifier(), parameter_grid, scoring='accuracy',n_jobs=-1)\n",
    "# search.fit(train1_X,train1_Y)\n",
    "# print(search.best_score_)\n",
    "# print()\n",
    "# print(search.best_params_)\n",
    "\n",
    "from sklearn.model_selection import train_test_split\n",
    "from sklearn.neural_network import MLPClassifier\n",
    "test_size = [0.1,0.2,0.3,0.4,0.5]\n",
    "activation= ['identity','logistic', 'tanh', 'relu']\n",
    "#hidden_layer=[(50),(50,25),(50,50,25),(50,50,25,25)]\n",
    "for size in test_size:\n",
    "  print(\"test_size is\",size)\n",
    "  train1_X, test1_X, train1_Y , test1_Y = train_test_split(X,y1,test_size=size)\n",
    "\n",
    "  for val in activation:\n",
    "    print(\"Activation: \",val)\n",
    "    prediction = MLPClassifier(random_state=1,max_iter=10000,activation=val).fit(train1_X,train1_Y)\n",
    "    score_1=prediction.score(test1_X,test1_Y)\n",
    "  \n",
    "    #print('Accuracy score calculated on Test Data (before) : ',accuracy_score(y_pred,test1_Y))\n",
    "    print('Accuracy score calculated on Test Data (initiALLY) : ',score_1)\n",
    " \n",
    "\n",
    "  "
   ]
  },
  {
   "cell_type": "markdown",
   "metadata": {
    "id": "cUDVElwP2fky"
   },
   "source": [
    "Feature selection, identifying "
   ]
  },
  {
   "cell_type": "code",
   "execution_count": null,
   "metadata": {
    "colab": {
     "base_uri": "https://localhost:8080/",
     "height": 1000
    },
    "id": "U8FLzO4XrTYd",
    "outputId": "818a2d6c-ac69-4782-f943-b50977cf8ebd"
   },
   "outputs": [
    {
     "name": "stdout",
     "output_type": "stream",
     "text": [
      "impactful dict : {'hard/smart worker': 0.008416594427362423, 'memory capability score': 0.00783642991028799, 'Percentage in Mathematics': 0.007742534653285116, 'Hours working per day': 0.007690774287214541, 'Percentage in Computer Architecture': 0.006286825840270627, 'self-learning capability?': 0.006109020722108394, 'Gentle or Tuff behaviour?': 0.0048779315885396635, 'worked in teams ever?': 0.0048034415806901265, 'talenttests taken?': 0.004491035710928237, 'Introvert': 0.004121504752125471, 'interested in games': 0.0038025710957279024, 'Type of company want to settle in?': 0.0036023013057473463, 'Percentage in Software Engineering': 0.003348894900058852, 'certifications': 0.002939396022029417, 'Taken inputs from seniors or elders': 0.002893793952420065, 'Salary Range Expected': 0.0022832254837270582, 'Percentage in Computer Networks': 0.0020723894308654067, 'Salary/work': 0.0017971017243887388, 'Interested Type of Books': 0.0016791574485988114, 'coding skills rating': 0.0009581000990133148, 'Acedamic percentage in Operating Systems': 0.0004966296170154649, 'Management or Technical': 0.0003001144302312575, 'reading and writing skills': 2.6350436407973632e-05, 'Percentage in Programming Concepts': 0.0, 'In a Realtionship?': 0.0, 'Logical quotient rating': 0.0, 'Job/Higher Studies?': 0.0, 'hackathons': 0.0, 'Interested subjects': 0.0, 'Percentage in Electronics Subjects': 0.0, 'olympiads': 0.0, 'percentage in Algorithms': 0.0, 'workshops': 0.0, 'Extra-courses did': 0.0, 'Percentage in Communication skills': 0.0, 'can work long time before system?': 0.0, 'public speaking points': 0.0, 'interested career area ': 0.0}\n",
      "keys ['hard/smart worker', 'memory capability score', 'Percentage in Mathematics', 'Hours working per day', 'Percentage in Computer Architecture', 'self-learning capability?', 'Gentle or Tuff behaviour?', 'worked in teams ever?', 'talenttests taken?', 'Introvert', 'interested in games', 'Type of company want to settle in?', 'Percentage in Software Engineering', 'certifications', 'Taken inputs from seniors or elders']\n"
     ]
    },
    {
     "data": {
      "text/plain": [
       "<AxesSubplot: >"
      ]
     },
     "execution_count": 29,
     "metadata": {},
     "output_type": "execute_result"
    },
    {
     "data": {
      "image/png": "[encoded data removed]",
      "text/plain": [
       "<Figure size 1800x1000 with 1 Axes>"
      ]
     },
     "metadata": {},
     "output_type": "display_data"
    }
   ],
   "source": [
    "#to check dependency on columns for the final output, uses the training and testing data\n",
    "from sklearn.feature_selection import mutual_info_classif\n",
    "\n",
    "impactful = mutual_info_classif(X,y1)\n",
    "impactful = pd.Series(impactful, dataset.columns[0:len(dataset.columns)-1])\n",
    "\n",
    "impactful_dict=impactful.sort_values(ascending=False).to_dict()\n",
    "print(\"impactful dict :\",impactful_dict)\n",
    "keys = list(impactful_dict.keys())[0:15]\n",
    "\n",
    "print(\"keys\",keys)\n",
    "# print(impactful.sort_values(ascending=False).head(10))\n",
    "\n",
    "impactful.sort_values(ascending=False).plot(kind = 'bar',color='green',figsize=(18, 10))\n",
    "\n"
   ]
  },
  {
   "cell_type": "code",
   "execution_count": null,
   "metadata": {
    "colab": {
     "base_uri": "https://localhost:8080/"
    },
    "id": "_NWl5n9twkhI",
    "outputId": "88cf1f4f-84f2-4921-f1ee-e062cb16c6d7"
   },
   "outputs": [
    {
     "name": "stdout",
     "output_type": "stream",
     "text": [
      "35\n",
      "(20000,)\n",
      "22\n",
      "(20000,)\n",
      "7\n",
      "(20000,)\n",
      "9\n",
      "(20000,)\n",
      "6\n",
      "(20000,)\n",
      "15\n",
      "(20000,)\n",
      "32\n",
      "(20000,)\n",
      "36\n",
      "(20000,)\n",
      "19\n",
      "(20000,)\n",
      "37\n",
      "(20000,)\n",
      "28\n",
      "(20000,)\n",
      "26\n",
      "(20000,)\n",
      "3\n",
      "(20000,)\n",
      "17\n",
      "(20000,)\n",
      "27\n",
      "(20000,)\n"
     ]
    }
   ],
   "source": [
    "#Taking top features\\n\n",
    "\n",
    "data_impactful = []\n",
    "for dependency in keys:\n",
    "  column_index = dataset.columns.get_loc(dependency)\n",
    "  print(column_index)\n",
    "  value = X[:,column_index]\n",
    "  print(value.shape)\n",
    "  data_impactful.append(value)\n",
    "\n",
    "data_impactful = np.array(data_impactful)"
   ]
  },
  {
   "cell_type": "code",
   "execution_count": null,
   "metadata": {
    "colab": {
     "base_uri": "https://localhost:8080/"
    },
    "id": "J6h09iKjrTQO",
    "outputId": "6d077d52-4c83-4b33-8d90-4f7735b826ef"
   },
   "outputs": [
    {
     "data": {
      "text/plain": [
       "(20000, 15)"
      ]
     },
     "execution_count": 31,
     "metadata": {},
     "output_type": "execute_result"
    }
   ],
   "source": [
    "data=data_impactful.transpose()\n",
    "data.shape\n",
    "#X.shape\n",
    "\n"
   ]
  },
  {
   "cell_type": "code",
   "execution_count": null,
   "metadata": {
    "colab": {
     "base_uri": "https://localhost:8080/",
     "height": 647
    },
    "id": "vuUeRgKirTN8",
    "outputId": "5815875a-366f-4fb9-cb14-486f0bd4d5f5"
   },
   "outputs": [
    {
     "name": "stderr",
     "output_type": "stream",
     "text": [
      "c:\\users\\legion\\appdata\\local\\programs\\python\\python38\\lib\\site-packages\\sklearn\\neural_network\\_multilayer_perceptron.py:702: ConvergenceWarning: Stochastic Optimizer: Maximum iterations (200) reached and the optimization hasn't converged yet.\n",
      "  warnings.warn(\n"
     ]
    },
    {
     "name": "stdout",
     "output_type": "stream",
     "text": [
      "Accuracy score calculated on Test Data :  0.2832195975503062\n",
      "Confusion matrix :  [[ 75  93  71  99 132]\n",
      " [ 68 104  62  88 117]\n",
      " [ 69  88  83 124 122]\n",
      " [ 69  66  61 132 116]\n",
      " [ 56  89  49  91 162]]\n",
      "\n",
      "Classwise accuracy :  [0.15957447 0.23690205 0.27078189 0.2972973  0.36241611]\n",
      "\n",
      "Classification report : \n",
      "              precision    recall  f1-score   support\n",
      "\n",
      "           0       0.22      0.16      0.19       470\n",
      "           1       0.24      0.24      0.24       439\n",
      "           2       0.27      0.17      0.20       486\n",
      "           3       0.29      0.30      0.27       444\n",
      "           4       0.29      0.36      0.30       447\n",
      "\n",
      "    accuracy                           0.24      2286\n",
      "   macro avg       0.24      0.25      0.24      2286\n",
      "weighted avg       0.24      0.24      0.24      2286\n",
      "\n"
     ]
    },
    {
     "data": {
      "image/png": "[encoded data removed]",
      "text/plain": [
       "<Figure size 640x480 with 2 Axes>"
      ]
     },
     "metadata": {},
     "output_type": "display_data"
    }
   ],
   "source": [
    "from imblearn.over_sampling import RandomOverSampler\n",
    "from imblearn.under_sampling import RandomUnderSampler \n",
    "ros = RandomOverSampler()\n",
    "x_ovs, y_ovs = ros.fit_resample(data, y1)\n",
    "\n",
    "from sklearn.neural_network import MLPClassifier\n",
    "from sklearn.model_selection import train_test_split\n",
    "\n",
    "accuracy1=[]\n",
    "\n",
    "\n",
    "train2_X, test2_X, train2_Y , test2_Y = train_test_split(x_ovs,y_ovs,test_size=0.1)         ##0.2395 at 55\n",
    "prediction2 = MLPClassifier(random_state=45,max_iter=200,activation='relu',hidden_layer_sizes=(50,55)).fit(train2_X,train2_Y)\n",
    "score_2=prediction2.score(test2_X,test2_Y)\n",
    "y_pred2 = prediction2.predict(test2_X)\n",
    "print('Accuracy score calculated on Test Data : ',score_2)\n",
    "cmatrix=confusion_matrix(test2_Y, y_pred2)\n",
    "print('Confusion matrix : ',cmatrix)\n",
    "print()\n",
    "sns.heatmap(cmatrix, annot=True,fmt=\"d\",cmap='Blues')\n",
    "matrix_1 = confusion_matrix(test2_Y, y_pred2)\n",
    "print('Classwise accuracy : ',matrix_1.diagonal()/matrix_1.sum(axis=1) )\n",
    "print()\n",
    "print('Classification report : ')\n",
    "labels = np.unique(dataset['Suggested Job Role'])\n",
    "print(classification_report(test2_Y, y_pred2))\n",
    "accuracy1.append(score_2)\n"
   ]
  },
  {
   "cell_type": "code",
   "execution_count": null,
   "metadata": {
    "id": "U7jrsPj86wzs",
    "outputId": "b297f6e4-edf9-455a-8d49-55e6494dbbe6"
   },
   "outputs": [
    {
     "name": "stdout",
     "output_type": "stream",
     "text": [
      "[[-1.00471110e+00 -1.22476048e+00  4.17072194e-01 ...  7.07517135e-01\n",
      "   1.53967740e+00 -1.00360650e+00]\n",
      " [-1.00471110e+00 -5.50894312e-04  1.14268910e+00 ... -1.51027815e+00\n",
      "   3.75195931e-01  9.96406457e-01]\n",
      " [-1.00471110e+00 -1.22476048e+00 -7.47844838e-01 ...  7.57476770e-01\n",
      "  -1.56560652e+00  9.96406457e-01]\n",
      " ...\n",
      " [-1.00471110e+00 -1.22476048e+00  1.42604910e+00 ...  7.11365140e-01\n",
      "  -1.29645604e-02  9.96406457e-01]\n",
      " [ 9.95310993e-01  1.22365869e+00  1.14899938e+00 ...  1.24902698e+00\n",
      "  -7.89285542e-01  9.96406457e-01]\n",
      " [-1.00471110e+00 -1.22476048e+00 -4.50126396e-01 ...  6.79807102e-01\n",
      "  -1.56560652e+00  9.96406457e-01]]\n"
     ]
    }
   ],
   "source": [
    "from sklearn.preprocessing import StandardScaler\n",
    "scaler = StandardScaler()\n",
    "scaled = scaler.fit_transform(data)\n",
    "print(scaled)\n"
   ]
  },
  {
   "cell_type": "code",
   "execution_count": null,
   "metadata": {
    "colab": {
     "base_uri": "https://localhost:8080/"
    },
    "id": "6tQgN3KMrTLj",
    "outputId": "eb28d796-4f6a-40a1-d0aa-e6164faf0800"
   },
   "outputs": [
    {
     "name": "stdout",
     "output_type": "stream",
     "text": [
      "solver:  lbfgs\n",
      "Accuracy score calculated on Test Data :  0.232\n",
      "Confusion matrix :  [[ 75  93  71  99 132]\n",
      " [ 68 104  62  88 117]\n",
      " [ 69  88  83 124 122]\n",
      " [ 69  66  61 132 116]\n",
      " [ 56  89  49  91 162]]\n",
      "\n",
      "Classwise accuracy :  [0.0025641  0.86157025 0.05966587 0.00777202 0.05607477]\n",
      "\n",
      "Classification report : \n",
      "              precision    recall  f1-score   support\n",
      "\n",
      "           0       0.50      0.00      0.01       390\n",
      "           1       0.24      0.86      0.38       484\n",
      "           2       0.18      0.06      0.09       419\n",
      "           3       0.25      0.01      0.02       386\n",
      "           4       0.13      0.06      0.08       321\n",
      "\n",
      "    accuracy                           0.23      2000\n",
      "   macro avg       0.26      0.20      0.11      2000\n",
      "weighted avg       0.26      0.23      0.13      2000\n",
      "\n",
      "solver:  sgd\n",
      "Accuracy score calculated on Test Data :  0.3235\n",
      "Confusion matrix :  [[ 75  93  71  99 132]\n",
      " [ 68 104  62  88 117]\n",
      " [ 69  88  83 124 122]\n",
      " [ 69  66  61 132 116]\n",
      " [ 56  89  49  91 162]]\n",
      "\n",
      "Classwise accuracy :  [0.02307692 0.86157025 0.41694511 0.01813472 0.01557632]\n",
      "\n",
      "Classification report : \n",
      "              precision    recall  f1-score   support\n",
      "\n",
      "           0       0.30      0.02      0.04       390\n",
      "           1       0.25      0.86      0.39       484\n",
      "           2       0.32      0.12      0.15       419\n",
      "           3       0.17      0.02      0.03       386\n",
      "           4       0.26      0.02      0.03       321\n",
      "\n",
      "    accuracy                           0.24      2000\n",
      "   macro avg       0.30      0.21      0.13      2000\n",
      "weighted avg       0.28      0.30      0.14      2000\n",
      "\n",
      "solver:  adam\n",
      "Accuracy score calculated on Test Data :  0.255\n",
      "Confusion matrix :  [[ 75  93  71  99 132]\n",
      " [ 68 104  62  88 117]\n",
      " [ 69  88  83 124 122]\n",
      " [ 69  66  61 132 116]\n",
      " [ 56  89  49  91 162]]\n",
      "\n",
      "Classwise accuracy :  [0.         0.82231405 0.09546539 0.08031088 0.00311526]\n",
      "\n",
      "Classification report : \n",
      "              precision    recall  f1-score   support\n",
      "\n",
      "           0       0.00      0.00      0.00       390\n",
      "           1       0.25      0.82      0.38       484\n",
      "           2       0.20      0.10      0.13       419\n",
      "           3       0.16      0.08      0.11       386\n",
      "           4       0.12      0.00      0.01       321\n",
      "\n",
      "    accuracy                           0.23      2000\n",
      "   macro avg       0.15      0.20      0.12      2000\n",
      "weighted avg       0.15      0.23      0.14      2000\n",
      "\n"
     ]
    },
    {
     "data": {
      "image/png": "[encoded data removed]",
      "text/plain": [
       "<Figure size 640x480 with 4 Axes>"
      ]
     },
     "metadata": {},
     "output_type": "display_data"
    }
   ],
   "source": [
    "solver=['lbfgs', 'sgd', 'adam']\n",
    "accuracy2=[]\n",
    "\n",
    "# from imblearn.over_sampling import RandomOverSampler\n",
    "# from imblearn.under_sampling import RandomUnderSampler \n",
    "# ros = RandomOverSampler()\n",
    "# x_ovs, y_ovs = ros.fit_resample(data, y1)\n",
    "train3_X, test3_X, train3_Y , test3_Y = train_test_split(scaled,y1,test_size=0.1) \n",
    "for solve in solver:\n",
    "    print('solver: ',solve)\n",
    "            ##0.2395 at 55\n",
    "    prediction3 = MLPClassifier(random_state=45,max_iter=500,activation='relu',hidden_layer_sizes=(5),solver=solve).fit(train3_X,train3_Y)\n",
    "    score_3=prediction3.score(test3_X,test3_Y)\n",
    "    y_pred3 = prediction3.predict(test3_X)\n",
    "    print('Accuracy score calculated on Test Data : ',score_3)\n",
    "    cmatrix=confusion_matrix(test2_Y, y_pred2)\n",
    "    print('Confusion matrix : ',cmatrix)\n",
    "    print()\n",
    "    sns.heatmap(cmatrix, annot=True,fmt=\"d\",cmap='Blues')\n",
    "    matrix_2 = confusion_matrix(test3_Y, y_pred3)\n",
    "    print('Classwise accuracy : ',matrix_2.diagonal()/matrix_2.sum(axis=1) )\n",
    "    print()\n",
    "    print('Classification report : ')\n",
    "    labels = np.unique(dataset['Suggested Job Role'])\n",
    "    print(classification_report(test3_Y, y_pred3))\n",
    "    accuracy2.append(score_3)"
   ]
  },
  {
   "cell_type": "code",
   "execution_count": null,
   "metadata": {
    "id": "XFB5CL0frTJH",
    "outputId": "e9d32f70-ccc5-454f-eb30-a18556526aed"
   },
   "outputs": [
    {
     "name": "stdout",
     "output_type": "stream",
     "text": [
      "Accuracy score calculated on Test Data :  0.3895\n",
      "Confusion matrix :  [[ 39 195  95  40   5]\n",
      " [ 32 243  93  66   5]\n",
      " [ 46 195  90  55   9]\n",
      " [ 50 223 113  43   4]\n",
      " [ 38 201  72  44   4]]\n",
      "\n",
      "Classwise accuracy :  [0.20427807 0.75353075 0.5278481  0.09930716 0.01114206]\n",
      "\n",
      "Classification report : \n",
      "              precision    recall  f1-score   support\n",
      "\n",
      "           0       0.19      0.10      0.13       374\n",
      "           1       0.23      0.55      0.32       439\n",
      "           2       0.19      0.23      0.21       395\n",
      "           3       0.17      0.10      0.13       433\n",
      "           4       0.15      0.01      0.02       359\n",
      "\n",
      "    accuracy                           0.21      2000\n",
      "   macro avg       0.19      0.20      0.16      2000\n",
      "weighted avg       0.19      0.21      0.17      2000\n",
      "\n"
     ]
    },
    {
     "data": {
      "image/png": "[encoded data removed]",
      "text/plain": [
       "<Figure size 640x480 with 2 Axes>"
      ]
     },
     "metadata": {},
     "output_type": "display_data"
    }
   ],
   "source": [
    "from imblearn.over_sampling import RandomOverSampler\n",
    "from imblearn.under_sampling import RandomUnderSampler \n",
    "ros = RandomOverSampler()\n",
    "x_ovs4, y_ovs4 = ros.fit_resample(scaled, y1)\n",
    "\n",
    "from sklearn.neural_network import MLPClassifier\n",
    "from sklearn.model_selection import train_test_split\n",
    "\n",
    "accuracy4=[]\n",
    "\n",
    "\n",
    "train4_X, test4_X, train4_Y , test4_Y = train_test_split(x_ovs4,y_ovs4,test_size=0.1)       \n",
    "prediction4 = MLPClassifier(random_state=45,max_iter=500,activation='relu',hidden_layer_sizes=(50,55),solver='sgd').fit(train4_X,train4_Y)\n",
    "score_4=prediction4.score(test4_X,test4_Y)\n",
    "y_pred4 = prediction4.predict(test4_X)\n",
    "print('Accuracy score calculated on Test Data : ',score_4)\n",
    "cmatrix=confusion_matrix(test4_Y, y_pred4)\n",
    "print('Confusion matrix : ',cmatrix)\n",
    "print()\n",
    "sns.heatmap(cmatrix, annot=True,fmt=\"d\",cmap='Blues')\n",
    "matrix_4 = confusion_matrix(test4_Y, y_pred4)\n",
    "print('Classwise accuracy : ',matrix_4.diagonal()/matrix_4.sum(axis=1) )\n",
    "print()\n",
    "print('Classification report : ')\n",
    "labels = np.unique(dataset['Suggested Job Role'])\n",
    "print(classification_report(test4_Y, y_pred4))\n",
    "accuracy4.append(score_4)\n"
   ]
  },
  {
   "cell_type": "code",
   "execution_count": null,
   "metadata": {
    "id": "XfaaAFYnrTGs"
   },
   "outputs": [],
   "source": []
  },
  {
   "cell_type": "code",
   "execution_count": null,
   "metadata": {
    "id": "dOcXrdk9rTEO"
   },
   "outputs": [],
   "source": []
  },
  {
   "cell_type": "code",
   "execution_count": null,
   "metadata": {
    "id": "-Ty3hFSZrTBy"
   },
   "outputs": [],
   "source": []
  },
  {
   "cell_type": "code",
   "execution_count": null,
   "metadata": {
    "id": "EB83Xfq0HEp-"
   },
   "outputs": [],
   "source": []
  },
  {
   "cell_type": "code",
   "execution_count": null,
   "metadata": {
    "id": "gtfujScQHEsZ"
   },
   "outputs": [],
   "source": []
  },
  {
   "cell_type": "code",
   "execution_count": null,
   "metadata": {
    "id": "khroMBR8HEun"
   },
   "outputs": [],
   "source": []
  },
  {
   "cell_type": "code",
   "execution_count": null,
   "metadata": {
    "id": "SdsLpQlNHEyR"
   },
   "outputs": [],
   "source": []
  }
 ],
 "metadata": {
  "colab": {
   "provenance": []
  },
  "kernelspec": {
   "display_name": "Python 3",
   "language": "python",
   "name": "python3"
  },
  "language_info": {
   "codemirror_mode": {
    "name": "ipython",
    "version": 3
   },
   "file_extension": ".py",
   "mimetype": "text/x-python",
   "name": "python",
   "nbconvert_exporter": "python",
   "pygments_lexer": "ipython3",
   "version": "3.8.10"
  }
 },
 "nbformat": 4,
 "nbformat_minor": 1
}
